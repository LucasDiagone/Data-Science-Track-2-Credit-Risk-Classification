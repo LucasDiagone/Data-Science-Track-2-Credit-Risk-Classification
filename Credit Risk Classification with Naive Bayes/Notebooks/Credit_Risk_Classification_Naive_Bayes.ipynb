{
 "cells": [
  {
   "cell_type": "markdown",
   "id": "f7b2b94b",
   "metadata": {},
   "source": [
    "# 💳 Credit Risk Classification Project\n",
    "\n",
    "This project aims to predict whether a customer is a **good** or **bad payer** based on financial and personal information, using the **Naive Bayes** algorithm.\n",
    "\n",
    "📁 Dataset: `Credit.csv`\n",
    "📁 New credit: `NewCredit.csv`"
   ]
  },
  {
   "cell_type": "markdown",
   "id": "481b69e6",
   "metadata": {},
   "source": [
    "## 📦 Importing Libraries\n"
   ]
  },
  {
   "cell_type": "code",
   "execution_count": null,
   "id": "75213951",
   "metadata": {},
   "outputs": [],
   "source": [
    "\n",
    "import pandas as pd\n",
    "import numpy as np\n",
    "import matplotlib.pyplot as plt\n",
    "import seaborn as sns\n",
    "from sklearn.model_selection import train_test_split\n",
    "from sklearn.preprocessing import LabelEncoder\n",
    "from sklearn.naive_bayes import GaussianNB\n",
    "from sklearn.linear_model import LogisticRegression\n",
    "from sklearn.metrics import accuracy_score, confusion_matrix\n"
   ]
  },
  {
   "cell_type": "markdown",
   "id": "5ed4670a",
   "metadata": {},
   "source": [
    "\n",
    "## 📊 1. Reading the Database"
   ]
  },
  {
   "cell_type": "code",
   "execution_count": null,
   "id": "c63e2322",
   "metadata": {},
   "outputs": [],
   "source": [
    "\n",
    "credit = pd.read_csv(\"Credit.csv\")\n",
    "print(credit.head())\n"
   ]
  },
  {
   "cell_type": "markdown",
   "id": "7aa2dcce",
   "metadata": {},
   "source": [
    "\n",
    "## 🔍 2. Analysis and Coding of Categorical Variables"
   ]
  },
  {
   "cell_type": "code",
   "execution_count": null,
   "id": "da76683b",
   "metadata": {},
   "outputs": [],
   "source": [
    "\n",
    "object_cols = credit.select_dtypes(include='object').columns\n",
    "print(\"Colunas categóricas (object):\")\n",
    "print(object_cols)\n",
    "\n",
    "#📘 Identify categorical type columns (object)"
   ]
  },
  {
   "cell_type": "code",
   "execution_count": null,
   "id": "75557204",
   "metadata": {},
   "outputs": [],
   "source": [
    "\n",
    "cols_to_encode = [\n",
    "    'checking_status', 'credit_history', 'purpose', 'savings_status',\n",
    "    'employment', 'personal_status', 'other_parties', 'property_magnitude',\n",
    "    'other_payment_plans', 'housing', 'job', 'own_telephone',\n",
    "    'foreign_worker', 'class'\n",
    "]\n",
    "\n",
    "#📘 Some columns have been removed to avoid unnecessary processing, but can be treated with One-Hot Encoding to retain the information\n"
   ]
  },
  {
   "cell_type": "code",
   "execution_count": null,
   "id": "6654d679",
   "metadata": {},
   "outputs": [],
   "source": [
    "\n",
    "encoders = {}\n",
    "\n",
    "for col in cols_to_encode:\n",
    "    le = LabelEncoder()\n",
    "    credit[col] = le.fit_transform(credit[col])\n",
    "    encoders[col] = le\n",
    "\n",
    "print(list(enumerate(le.classes_)))  # Mapeamento final\n",
    "\n",
    "#📘 Encode categorical columns with LabelEncoder and store the encoders for future use"
   ]
  },
  {
   "cell_type": "markdown",
   "id": "3cf4e3b4",
   "metadata": {},
   "source": [
    "## 🧩 3. Creating Predictor and Class Arrays\n"
   ]
  },
  {
   "cell_type": "code",
   "execution_count": null,
   "id": "a54bf72a",
   "metadata": {},
   "outputs": [],
   "source": [
    "\n",
    "previsores = credit.iloc[:, 0:20].values\n",
    "classe = credit.iloc[:, 20].values\n"
   ]
  },
  {
   "cell_type": "markdown",
   "id": "be110869",
   "metadata": {},
   "source": [
    "\n",
    "## ✂️ 4. Division of the Base into Training and Testing"
   ]
  },
  {
   "cell_type": "code",
   "execution_count": null,
   "id": "00baaa87",
   "metadata": {},
   "outputs": [],
   "source": [
    "\n",
    "X_train, X_test, y_train, y_test = train_test_split(previsores, classe, test_size=0.3, random_state=42)\n",
    "\n",
    "#📘 Splits data into training (70%) and testing (30%) in a random and reproducible way"
   ]
  },
  {
   "cell_type": "markdown",
   "id": "2ed5a2f3",
   "metadata": {},
   "source": [
    "## 🤖 5. Naive Bayes Model Training"
   ]
  },
  {
   "cell_type": "code",
   "execution_count": null,
   "id": "f32f6493",
   "metadata": {},
   "outputs": [],
   "source": [
    "\n",
    "naive_bayes = GaussianNB()\n",
    "naive_bayes.fit(X_train, y_train)\n"
   ]
  },
  {
   "cell_type": "markdown",
   "id": "68e39b51",
   "metadata": {},
   "source": [
    "\n",
    "## 📈 6. Model Validation and Metrics"
   ]
  },
  {
   "cell_type": "code",
   "execution_count": null,
   "id": "715b7a9c",
   "metadata": {},
   "outputs": [],
   "source": [
    "\n",
    "previsoes = naive_bayes.predict(X_test)\n",
    "matrizconfusao = confusion_matrix(y_test, previsoes)\n",
    "print(\"Matriz de Confusão:\")\n",
    "print(matrizconfusao)\n",
    "\n",
    "acuracia = accuracy_score(y_test, previsoes)\n",
    "print(f\"Acurácia: {acuracia:.2f}\")\n",
    "\n",
    "#📘 Generates predictions on the test set, calculates the confusion matrix, and displays model accuracy"
   ]
  },
  {
   "cell_type": "markdown",
   "id": "b16d3068",
   "metadata": {},
   "source": [
    "\n",
    "## 🆕 7. Forecast with New Record"
   ]
  },
  {
   "cell_type": "code",
   "execution_count": null,
   "id": "7672175f",
   "metadata": {},
   "outputs": [],
   "source": [
    "\n",
    "novo_credit = pd.read_csv('NovoCredit.csv')\n",
    "print(novo_credit.shape)\n",
    "\n",
    "for col in cols_to_encode[:-1]:\n",
    "    le2 = encoders[col]\n",
    "    novo_credit[col] = le2.transform(novo_credit[col])\n",
    "\n",
    "novo_credit_array = novo_credit.iloc[:, 0:20].values\n",
    "nova_previsao = naive_bayes.predict(novo_credit_array)\n",
    "print(f\"Previsão para o novo crédito: {nova_previsao}\")\n",
    "\n",
    "#📘 Loads new data, applies already trained encoders and predicts credit risk"
   ]
  },
  {
   "cell_type": "markdown",
   "id": "57bb2a9d",
   "metadata": {},
   "source": [
    "\n",
    "## ✅ Project Completion\n",
    "\n",
    "In this project, we applied a **Credit Risk Classification** model with the **Naive Bayes** algorithm, using financial and personal data from customers.\n",
    "\n",
    "🔧 **Steps developed:**\n",
    "- Analysis and coding of categorical variables with `LabelEncoder`\n",
    "- Separation of data into training and testing\n",
    "- Training of the Naive Bayes model\n",
    "- Evaluation with **confusion matrix** and **accuracy**\n",
    "- Forecasting with new data (practical simulation with `NovoCredit.csv`)\n",
    "\n",
    "🎯 **Objective**: predict whether a customer will be a **good** or **bad payer**, providing an automated basis for decision-making in credit granting.\n",
    "\n",
    "This project is a solid foundation for real credit analysis applications and can be expanded with new algorithms, cross-validation techniques, and additional metrics.\n"
   ]
  }
 ],
 "metadata": {
  "kernelspec": {
   "display_name": "Python 3",
   "language": "python",
   "name": "python3"
  },
  "language_info": {
   "name": "python",
   "version": "3.13.5"
  }
 },
 "nbformat": 4,
 "nbformat_minor": 5
}
